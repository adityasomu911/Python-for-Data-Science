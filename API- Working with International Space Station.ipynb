{
 "cells": [
  {
   "cell_type": "code",
   "execution_count": 2,
   "metadata": {},
   "outputs": [],
   "source": [
    "import requests\n",
    "import pandas as pn\n",
    "import json\n",
    "from datetime import datetime as dt"
   ]
  },
  {
   "cell_type": "markdown",
   "metadata": {},
   "source": [
    "### Finding number of Astronaut in ISS currently"
   ]
  },
  {
   "cell_type": "code",
   "execution_count": 3,
   "metadata": {},
   "outputs": [
    {
     "name": "stdout",
     "output_type": "stream",
     "text": [
      "200\n"
     ]
    }
   ],
   "source": [
    "api_call=requests.get('http://api.open-notify.org/astros.json')\n",
    "print(api_call.status_code)"
   ]
  },
  {
   "cell_type": "code",
   "execution_count": 4,
   "metadata": {},
   "outputs": [
    {
     "name": "stdout",
     "output_type": "stream",
     "text": [
      "{\"message\": \"success\", \"number\": 7, \"people\": [{\"craft\": \"ISS\", \"name\": \"Sergey Ryzhikov\"}, {\"craft\": \"ISS\", \"name\": \"Kate Rubins\"}, {\"craft\": \"ISS\", \"name\": \"Sergey Kud-Sverchkov\"}, {\"craft\": \"ISS\", \"name\": \"Mike Hopkins\"}, {\"craft\": \"ISS\", \"name\": \"Victor Glover\"}, {\"craft\": \"ISS\", \"name\": \"Shannon Walker\"}, {\"craft\": \"ISS\", \"name\": \"Soichi Noguchi\"}]}\n"
     ]
    }
   ],
   "source": [
    "#this is how api response looks\n",
    "print(json.dumps(api_call.json()))"
   ]
  },
  {
   "cell_type": "code",
   "execution_count": 5,
   "metadata": {},
   "outputs": [
    {
     "name": "stdout",
     "output_type": "stream",
     "text": [
      "Number 7\n"
     ]
    }
   ],
   "source": [
    "#to print the number of astronauts\n",
    "print('Number',api_call.json()['number'])"
   ]
  },
  {
   "cell_type": "markdown",
   "metadata": {},
   "source": [
    "### Name of the People and their  crafts"
   ]
  },
  {
   "cell_type": "code",
   "execution_count": 6,
   "metadata": {},
   "outputs": [
    {
     "name": "stdout",
     "output_type": "stream",
     "text": [
      "  craft                  name\n",
      "0   ISS       Sergey Ryzhikov\n",
      "1   ISS           Kate Rubins\n",
      "2   ISS  Sergey Kud-Sverchkov\n",
      "3   ISS          Mike Hopkins\n",
      "4   ISS         Victor Glover\n",
      "5   ISS        Shannon Walker\n",
      "6   ISS        Soichi Noguchi\n"
     ]
    }
   ],
   "source": [
    "print(pn.DataFrame(api_call.json()['people']))"
   ]
  },
  {
   "cell_type": "markdown",
   "metadata": {},
   "source": [
    "### ISS coming over my head in next 24hrs"
   ]
  },
  {
   "cell_type": "code",
   "execution_count": 7,
   "metadata": {},
   "outputs": [
    {
     "name": "stdout",
     "output_type": "stream",
     "text": [
      "Connected\n"
     ]
    }
   ],
   "source": [
    "#we will call 2 API here, one to fetch Latitude and longitude based on the city\n",
    "city='hazaribagh'\n",
    "geo_api=requests.get('http://api.positionstack.com/v1/forward?access_key=58e157cf01d0ed393968ddc1a04e11ef&query='+city+'')\n",
    "\n",
    "#Second API to fetch ISS time and duration of pass on that latitude and longitude location or over that City\n",
    "#we will use above api's latitude and long info on API2\n",
    "parameters={'lat':geo_api.json()['data'][0]['latitude'],'lon':geo_api.json()['data'][0]['longitude']}\n",
    "api2=requests.get(\"http://api.open-notify.org/iss-pass.json\", params=parameters)\n",
    "\n",
    "if geo_api.status_code==200 and api2.status_code==200:#checking the connection with API\n",
    "    print('Connected')\n",
    "else:\n",
    "    print('Not Connected')"
   ]
  },
  {
   "cell_type": "code",
   "execution_count": 8,
   "metadata": {},
   "outputs": [
    {
     "data": {
      "text/plain": [
       "{'message': 'success',\n",
       " 'request': {'altitude': 100,\n",
       "  'datetime': 1613380878,\n",
       "  'latitude': 23.99507,\n",
       "  'longitude': 85.36109,\n",
       "  'passes': 5},\n",
       " 'response': [{'duration': 650, 'risetime': 1613384314},\n",
       "  {'duration': 184, 'risetime': 1613390323},\n",
       "  {'duration': 566, 'risetime': 1613432557},\n",
       "  {'duration': 619, 'risetime': 1613438327},\n",
       "  {'duration': 128, 'risetime': 1613444434}]}"
      ]
     },
     "execution_count": 8,
     "metadata": {},
     "output_type": "execute_result"
    }
   ],
   "source": [
    "api2.json()#you can see the response "
   ]
  },
  {
   "cell_type": "code",
   "execution_count": 13,
   "metadata": {},
   "outputs": [
    {
     "data": {
      "text/html": [
       "<div>\n",
       "<style scoped>\n",
       "    .dataframe tbody tr th:only-of-type {\n",
       "        vertical-align: middle;\n",
       "    }\n",
       "\n",
       "    .dataframe tbody tr th {\n",
       "        vertical-align: top;\n",
       "    }\n",
       "\n",
       "    .dataframe thead th {\n",
       "        text-align: right;\n",
       "    }\n",
       "</style>\n",
       "<table border=\"1\" class=\"dataframe\">\n",
       "  <thead>\n",
       "    <tr style=\"text-align: right;\">\n",
       "      <th></th>\n",
       "      <th>duration</th>\n",
       "      <th>risetime</th>\n",
       "    </tr>\n",
       "  </thead>\n",
       "  <tbody>\n",
       "    <tr>\n",
       "      <th>0</th>\n",
       "      <td>650</td>\n",
       "      <td>1613384314</td>\n",
       "    </tr>\n",
       "    <tr>\n",
       "      <th>1</th>\n",
       "      <td>184</td>\n",
       "      <td>1613390323</td>\n",
       "    </tr>\n",
       "    <tr>\n",
       "      <th>2</th>\n",
       "      <td>566</td>\n",
       "      <td>1613432557</td>\n",
       "    </tr>\n",
       "    <tr>\n",
       "      <th>3</th>\n",
       "      <td>619</td>\n",
       "      <td>1613438327</td>\n",
       "    </tr>\n",
       "    <tr>\n",
       "      <th>4</th>\n",
       "      <td>128</td>\n",
       "      <td>1613444434</td>\n",
       "    </tr>\n",
       "  </tbody>\n",
       "</table>\n",
       "</div>"
      ],
      "text/plain": [
       "   duration    risetime\n",
       "0       650  1613384314\n",
       "1       184  1613390323\n",
       "2       566  1613432557\n",
       "3       619  1613438327\n",
       "4       128  1613444434"
      ]
     },
     "execution_count": 13,
     "metadata": {},
     "output_type": "execute_result"
    }
   ],
   "source": [
    "df1=pn.DataFrame(api2.json()['response'])#used pandas to show the Response of api2 in Tabular form\n",
    "df1"
   ]
  },
  {
   "cell_type": "code",
   "execution_count": 11,
   "metadata": {},
   "outputs": [
    {
     "name": "stdout",
     "output_type": "stream",
     "text": [
      "2021-02-02 19:38:02\n",
      "2021-02-02 21:14:23\n",
      "2021-02-03 10:37:45\n",
      "2021-02-03 12:14:58\n",
      "2021-02-03 18:51:09\n"
     ]
    }
   ],
   "source": [
    "#risetime need to be converted to human read time format\n",
    "time_list=[]\n",
    "for i in api2.json()['response']:\n",
    "    print(dt.fromtimestamp(i['risetime']))\n",
    "    time_list.append(dt.fromtimestamp(i['risetime']))\n",
    "\n",
    "d={'Time':time_list}\n",
    "dt_df=pn.DataFrame(d)"
   ]
  },
  {
   "cell_type": "code",
   "execution_count": 12,
   "metadata": {},
   "outputs": [
    {
     "data": {
      "text/html": [
       "<div>\n",
       "<style scoped>\n",
       "    .dataframe tbody tr th:only-of-type {\n",
       "        vertical-align: middle;\n",
       "    }\n",
       "\n",
       "    .dataframe tbody tr th {\n",
       "        vertical-align: top;\n",
       "    }\n",
       "\n",
       "    .dataframe thead th {\n",
       "        text-align: right;\n",
       "    }\n",
       "</style>\n",
       "<table border=\"1\" class=\"dataframe\">\n",
       "  <thead>\n",
       "    <tr style=\"text-align: right;\">\n",
       "      <th></th>\n",
       "      <th>duration</th>\n",
       "      <th>risetime</th>\n",
       "      <th>Time</th>\n",
       "    </tr>\n",
       "  </thead>\n",
       "  <tbody>\n",
       "    <tr>\n",
       "      <th>0</th>\n",
       "      <td>570</td>\n",
       "      <td>1612274882</td>\n",
       "      <td>2021-02-02 19:38:02</td>\n",
       "    </tr>\n",
       "    <tr>\n",
       "      <th>1</th>\n",
       "      <td>627</td>\n",
       "      <td>1612280663</td>\n",
       "      <td>2021-02-02 21:14:23</td>\n",
       "    </tr>\n",
       "    <tr>\n",
       "      <th>2</th>\n",
       "      <td>622</td>\n",
       "      <td>1612328865</td>\n",
       "      <td>2021-02-03 10:37:45</td>\n",
       "    </tr>\n",
       "    <tr>\n",
       "      <th>3</th>\n",
       "      <td>573</td>\n",
       "      <td>1612334698</td>\n",
       "      <td>2021-02-03 12:14:58</td>\n",
       "    </tr>\n",
       "    <tr>\n",
       "      <th>4</th>\n",
       "      <td>490</td>\n",
       "      <td>1612358469</td>\n",
       "      <td>2021-02-03 18:51:09</td>\n",
       "    </tr>\n",
       "  </tbody>\n",
       "</table>\n",
       "</div>"
      ],
      "text/plain": [
       "   duration    risetime                Time\n",
       "0       570  1612274882 2021-02-02 19:38:02\n",
       "1       627  1612280663 2021-02-02 21:14:23\n",
       "2       622  1612328865 2021-02-03 10:37:45\n",
       "3       573  1612334698 2021-02-03 12:14:58\n",
       "4       490  1612358469 2021-02-03 18:51:09"
      ]
     },
     "execution_count": 12,
     "metadata": {},
     "output_type": "execute_result"
    }
   ],
   "source": [
    "#merging two dataframe\n",
    "df3=pn.merge(df1,dt_df,right_index=True,left_index=True)\n",
    "df3"
   ]
  },
  {
   "cell_type": "code",
   "execution_count": 13,
   "metadata": {},
   "outputs": [
    {
     "data": {
      "text/html": [
       "<div>\n",
       "<style scoped>\n",
       "    .dataframe tbody tr th:only-of-type {\n",
       "        vertical-align: middle;\n",
       "    }\n",
       "\n",
       "    .dataframe tbody tr th {\n",
       "        vertical-align: top;\n",
       "    }\n",
       "\n",
       "    .dataframe thead th {\n",
       "        text-align: right;\n",
       "    }\n",
       "</style>\n",
       "<table border=\"1\" class=\"dataframe\">\n",
       "  <thead>\n",
       "    <tr style=\"text-align: right;\">\n",
       "      <th></th>\n",
       "      <th>duration</th>\n",
       "      <th>risetime</th>\n",
       "      <th>Time</th>\n",
       "      <th>Date</th>\n",
       "      <th>Clock time</th>\n",
       "    </tr>\n",
       "  </thead>\n",
       "  <tbody>\n",
       "    <tr>\n",
       "      <th>0</th>\n",
       "      <td>570</td>\n",
       "      <td>1612274882</td>\n",
       "      <td>2021-02-02 19:38:02</td>\n",
       "      <td>2021-02-02</td>\n",
       "      <td>19:38:02</td>\n",
       "    </tr>\n",
       "    <tr>\n",
       "      <th>1</th>\n",
       "      <td>627</td>\n",
       "      <td>1612280663</td>\n",
       "      <td>2021-02-02 21:14:23</td>\n",
       "      <td>2021-02-02</td>\n",
       "      <td>21:14:23</td>\n",
       "    </tr>\n",
       "    <tr>\n",
       "      <th>2</th>\n",
       "      <td>622</td>\n",
       "      <td>1612328865</td>\n",
       "      <td>2021-02-03 10:37:45</td>\n",
       "      <td>2021-02-03</td>\n",
       "      <td>10:37:45</td>\n",
       "    </tr>\n",
       "    <tr>\n",
       "      <th>3</th>\n",
       "      <td>573</td>\n",
       "      <td>1612334698</td>\n",
       "      <td>2021-02-03 12:14:58</td>\n",
       "      <td>2021-02-03</td>\n",
       "      <td>12:14:58</td>\n",
       "    </tr>\n",
       "    <tr>\n",
       "      <th>4</th>\n",
       "      <td>490</td>\n",
       "      <td>1612358469</td>\n",
       "      <td>2021-02-03 18:51:09</td>\n",
       "      <td>2021-02-03</td>\n",
       "      <td>18:51:09</td>\n",
       "    </tr>\n",
       "  </tbody>\n",
       "</table>\n",
       "</div>"
      ],
      "text/plain": [
       "   duration    risetime                Time        Date Clock time\n",
       "0       570  1612274882 2021-02-02 19:38:02  2021-02-02   19:38:02\n",
       "1       627  1612280663 2021-02-02 21:14:23  2021-02-02   21:14:23\n",
       "2       622  1612328865 2021-02-03 10:37:45  2021-02-03   10:37:45\n",
       "3       573  1612334698 2021-02-03 12:14:58  2021-02-03   12:14:58\n",
       "4       490  1612358469 2021-02-03 18:51:09  2021-02-03   18:51:09"
      ]
     },
     "execution_count": 13,
     "metadata": {},
     "output_type": "execute_result"
    }
   ],
   "source": [
    "#splitting the Time to Date and Clock time for more convienient reading\n",
    "df3['Date']=[d.date() for d in df3['Time']]\n",
    "df3['Clock time']=[d.time() for d in df3['Time']]\n",
    "df3"
   ]
  },
  {
   "cell_type": "code",
   "execution_count": 14,
   "metadata": {},
   "outputs": [
    {
     "data": {
      "text/html": [
       "<div>\n",
       "<style scoped>\n",
       "    .dataframe tbody tr th:only-of-type {\n",
       "        vertical-align: middle;\n",
       "    }\n",
       "\n",
       "    .dataframe tbody tr th {\n",
       "        vertical-align: top;\n",
       "    }\n",
       "\n",
       "    .dataframe thead th {\n",
       "        text-align: right;\n",
       "    }\n",
       "</style>\n",
       "<table border=\"1\" class=\"dataframe\">\n",
       "  <thead>\n",
       "    <tr style=\"text-align: right;\">\n",
       "      <th></th>\n",
       "      <th>duration</th>\n",
       "      <th>risetime</th>\n",
       "      <th>Time</th>\n",
       "      <th>Date</th>\n",
       "      <th>Clock time</th>\n",
       "      <th>Duration in min</th>\n",
       "    </tr>\n",
       "  </thead>\n",
       "  <tbody>\n",
       "    <tr>\n",
       "      <th>0</th>\n",
       "      <td>570</td>\n",
       "      <td>1612274882</td>\n",
       "      <td>2021-02-02 19:38:02</td>\n",
       "      <td>2021-02-02</td>\n",
       "      <td>19:38:02</td>\n",
       "      <td>9.500000</td>\n",
       "    </tr>\n",
       "    <tr>\n",
       "      <th>1</th>\n",
       "      <td>627</td>\n",
       "      <td>1612280663</td>\n",
       "      <td>2021-02-02 21:14:23</td>\n",
       "      <td>2021-02-02</td>\n",
       "      <td>21:14:23</td>\n",
       "      <td>10.450000</td>\n",
       "    </tr>\n",
       "    <tr>\n",
       "      <th>2</th>\n",
       "      <td>622</td>\n",
       "      <td>1612328865</td>\n",
       "      <td>2021-02-03 10:37:45</td>\n",
       "      <td>2021-02-03</td>\n",
       "      <td>10:37:45</td>\n",
       "      <td>10.366667</td>\n",
       "    </tr>\n",
       "    <tr>\n",
       "      <th>3</th>\n",
       "      <td>573</td>\n",
       "      <td>1612334698</td>\n",
       "      <td>2021-02-03 12:14:58</td>\n",
       "      <td>2021-02-03</td>\n",
       "      <td>12:14:58</td>\n",
       "      <td>9.550000</td>\n",
       "    </tr>\n",
       "    <tr>\n",
       "      <th>4</th>\n",
       "      <td>490</td>\n",
       "      <td>1612358469</td>\n",
       "      <td>2021-02-03 18:51:09</td>\n",
       "      <td>2021-02-03</td>\n",
       "      <td>18:51:09</td>\n",
       "      <td>8.166667</td>\n",
       "    </tr>\n",
       "  </tbody>\n",
       "</table>\n",
       "</div>"
      ],
      "text/plain": [
       "   duration    risetime                Time        Date Clock time  \\\n",
       "0       570  1612274882 2021-02-02 19:38:02  2021-02-02   19:38:02   \n",
       "1       627  1612280663 2021-02-02 21:14:23  2021-02-02   21:14:23   \n",
       "2       622  1612328865 2021-02-03 10:37:45  2021-02-03   10:37:45   \n",
       "3       573  1612334698 2021-02-03 12:14:58  2021-02-03   12:14:58   \n",
       "4       490  1612358469 2021-02-03 18:51:09  2021-02-03   18:51:09   \n",
       "\n",
       "   Duration in min  \n",
       "0         9.500000  \n",
       "1        10.450000  \n",
       "2        10.366667  \n",
       "3         9.550000  \n",
       "4         8.166667  "
      ]
     },
     "execution_count": 14,
     "metadata": {},
     "output_type": "execute_result"
    }
   ],
   "source": [
    "#Adding Duration in min \n",
    "df3['Duration in min']=[d/60 for d in df3['duration']]\n",
    "df3"
   ]
  },
  {
   "cell_type": "code",
   "execution_count": 14,
   "metadata": {},
   "outputs": [
    {
     "ename": "SyntaxError",
     "evalue": "unmatched ')' (<ipython-input-14-d14c3ffcdac3>, line 2)",
     "output_type": "error",
     "traceback": [
      "\u001b[0;36m  File \u001b[0;32m\"<ipython-input-14-d14c3ffcdac3>\"\u001b[0;36m, line \u001b[0;32m2\u001b[0m\n\u001b[0;31m    *time_table=df3[['Date','Clock(time','Duration, in, min']])\u001b[0m\n\u001b[0m                                                              ^\u001b[0m\n\u001b[0;31mSyntaxError\u001b[0m\u001b[0;31m:\u001b[0m unmatched ')'\n"
     ]
    }
   ],
   "source": [
    "#converting df3 to human readable data and time data of ISS passing\n",
    "'''time_table=df3[['Date','Clock time','Duration in min']]\n",
    "time_table*/'''"
   ]
  },
  {
   "cell_type": "code",
   "execution_count": null,
   "metadata": {},
   "outputs": [],
   "source": []
  },
  {
   "cell_type": "code",
   "execution_count": null,
   "metadata": {},
   "outputs": [],
   "source": []
  }
 ],
 "metadata": {
  "kernelspec": {
   "display_name": "Python 3",
   "language": "python",
   "name": "python3"
  },
  "language_info": {
   "codemirror_mode": {
    "name": "ipython",
    "version": 3
   },
   "file_extension": ".py",
   "mimetype": "text/x-python",
   "name": "python",
   "nbconvert_exporter": "python",
   "pygments_lexer": "ipython3",
   "version": "3.8.3"
  }
 },
 "nbformat": 4,
 "nbformat_minor": 4
}
